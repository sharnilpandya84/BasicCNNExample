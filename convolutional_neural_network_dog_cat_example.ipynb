{
  "nbformat": 4,
  "nbformat_minor": 0,
  "metadata": {
    "colab": {
      "name": "convolutional_neural_network_dog_cat_example.ipynb",
      "provenance": [],
      "collapsed_sections": []
    },
    "kernelspec": {
      "display_name": "Python 3",
      "language": "python",
      "name": "python3"
    },
    "language_info": {
      "codemirror_mode": {
        "name": "ipython",
        "version": 3
      },
      "file_extension": ".py",
      "mimetype": "text/x-python",
      "name": "python",
      "nbconvert_exporter": "python",
      "pygments_lexer": "ipython3",
      "version": "3.8.3"
    }
  },
  "cells": [
    {
      "cell_type": "markdown",
      "metadata": {
        "id": "3DR-eO17geWu"
      },
      "source": [
        "# Convolutional Neural Network"
      ]
    },
    {
      "cell_type": "markdown",
      "metadata": {
        "id": "EMefrVPCg-60"
      },
      "source": [
        "### Importing the libraries"
      ]
    },
    {
      "cell_type": "code",
      "metadata": {
        "id": "sCV30xyVhFbE"
      },
      "source": [
        "import tensorflow as tf\n",
        "from keras.preprocessing.image import ImageDataGenerator"
      ],
      "execution_count": null,
      "outputs": []
    },
    {
      "cell_type": "markdown",
      "metadata": {
        "id": "oxQxCBWyoGPE"
      },
      "source": [
        "## Part 1 - Data Preprocessing"
      ]
    },
    {
      "cell_type": "markdown",
      "metadata": {
        "id": "MvE-heJNo3GG"
      },
      "source": [
        "### Preprocessing the Training set"
      ]
    },
    {
      "cell_type": "code",
      "metadata": {
        "id": "0koUcJMJpEBD",
        "outputId": "386490f9-f786-45eb-ae1d-4029fb4caf7f"
      },
      "source": [
        "train_datagen = ImageDataGenerator(rescale = 1./255,\n",
        "                                   shear_range = 0.2,\n",
        "                                   zoom_range = 0.2,\n",
        "                                   horizontal_flip = True)\n",
        "training_set = train_datagen.flow_from_directory('dataset/training_set',\n",
        "                                                 target_size = (64, 64),\n",
        "                                                 batch_size = 32,\n",
        "                                                 class_mode = 'binary')"
      ],
      "execution_count": null,
      "outputs": [
        {
          "output_type": "stream",
          "text": [
            "Found 8000 images belonging to 2 classes.\n"
          ],
          "name": "stdout"
        }
      ]
    },
    {
      "cell_type": "markdown",
      "metadata": {
        "id": "mrCMmGw9pHys"
      },
      "source": [
        "### Preprocessing the Test set"
      ]
    },
    {
      "cell_type": "code",
      "metadata": {
        "id": "SH4WzfOhpKc3",
        "outputId": "5f7e6b20-9505-4dc3-95ab-a8a785c7ff6e"
      },
      "source": [
        "test_datagen = ImageDataGenerator(rescale = 1./255)\n",
        "test_set = test_datagen.flow_from_directory('dataset/test_set',\n",
        "                                            target_size = (64, 64),\n",
        "                                            batch_size = 32,\n",
        "                                            class_mode = 'binary')"
      ],
      "execution_count": null,
      "outputs": [
        {
          "output_type": "stream",
          "text": [
            "Found 2000 images belonging to 2 classes.\n"
          ],
          "name": "stdout"
        }
      ]
    },
    {
      "cell_type": "markdown",
      "metadata": {
        "id": "af8O4l90gk7B"
      },
      "source": [
        "## Part 2 - Building the CNN"
      ]
    },
    {
      "cell_type": "markdown",
      "metadata": {
        "id": "ces1gXY2lmoX"
      },
      "source": [
        "### Initialising the CNN"
      ]
    },
    {
      "cell_type": "code",
      "metadata": {
        "id": "SAUt4UMPlhLS"
      },
      "source": [
        "cnn = tf.keras.models.Sequential()"
      ],
      "execution_count": null,
      "outputs": []
    },
    {
      "cell_type": "markdown",
      "metadata": {
        "id": "u5YJj_XMl5LF"
      },
      "source": [
        "### Step 1 - Convolution"
      ]
    },
    {
      "cell_type": "code",
      "metadata": {
        "id": "XPzPrMckl-hV"
      },
      "source": [
        "cnn.add(tf.keras.layers.Conv2D(filters=32, kernel_size=3, activation='relu', input_shape=[64, 64, 3]))"
      ],
      "execution_count": null,
      "outputs": []
    },
    {
      "cell_type": "markdown",
      "metadata": {
        "id": "tf87FpvxmNOJ"
      },
      "source": [
        "### Step 2 - Pooling"
      ]
    },
    {
      "cell_type": "code",
      "metadata": {
        "id": "ncpqPl69mOac"
      },
      "source": [
        "cnn.add(tf.keras.layers.MaxPool2D(pool_size=2, strides=2))"
      ],
      "execution_count": null,
      "outputs": []
    },
    {
      "cell_type": "markdown",
      "metadata": {
        "id": "xaTOgD8rm4mU"
      },
      "source": [
        "### Adding a second convolutional layer"
      ]
    },
    {
      "cell_type": "code",
      "metadata": {
        "id": "i_-FZjn_m8gk"
      },
      "source": [
        "cnn.add(tf.keras.layers.Conv2D(filters=32, kernel_size=3, activation='relu'))\n",
        "cnn.add(tf.keras.layers.MaxPool2D(pool_size=2, strides=2))"
      ],
      "execution_count": null,
      "outputs": []
    },
    {
      "cell_type": "markdown",
      "metadata": {
        "id": "tmiEuvTunKfk"
      },
      "source": [
        "### Step 3 - Flattening"
      ]
    },
    {
      "cell_type": "code",
      "metadata": {
        "id": "6AZeOGCvnNZn"
      },
      "source": [
        "cnn.add(tf.keras.layers.Flatten())"
      ],
      "execution_count": null,
      "outputs": []
    },
    {
      "cell_type": "markdown",
      "metadata": {
        "id": "dAoSECOm203v"
      },
      "source": [
        "### Step 4 - Full Connection"
      ]
    },
    {
      "cell_type": "code",
      "metadata": {
        "id": "8GtmUlLd26Nq"
      },
      "source": [
        "cnn.add(tf.keras.layers.Dense(units=128, activation='relu'))"
      ],
      "execution_count": null,
      "outputs": []
    },
    {
      "cell_type": "markdown",
      "metadata": {
        "id": "yTldFvbX28Na"
      },
      "source": [
        "### Step 5 - Output Layer"
      ]
    },
    {
      "cell_type": "code",
      "metadata": {
        "id": "1p_Zj1Mc3Ko_"
      },
      "source": [
        "cnn.add(tf.keras.layers.Dense(units=1, activation='sigmoid'))"
      ],
      "execution_count": null,
      "outputs": []
    },
    {
      "cell_type": "markdown",
      "metadata": {
        "id": "D6XkI90snSDl"
      },
      "source": [
        "## Part 3 - Training the CNN"
      ]
    },
    {
      "cell_type": "markdown",
      "metadata": {
        "id": "vfrFQACEnc6i"
      },
      "source": [
        "### Compiling the CNN"
      ]
    },
    {
      "cell_type": "code",
      "metadata": {
        "id": "NALksrNQpUlJ"
      },
      "source": [
        "cnn.compile(optimizer = 'adam', loss = 'binary_crossentropy', metrics = ['accuracy'])"
      ],
      "execution_count": null,
      "outputs": []
    },
    {
      "cell_type": "markdown",
      "metadata": {
        "id": "ehS-v3MIpX2h"
      },
      "source": [
        "### Training the CNN on the Training set and evaluating it on the Test set"
      ]
    },
    {
      "cell_type": "code",
      "metadata": {
        "id": "XUj1W4PJptta",
        "outputId": "001be12e-ec2d-4425-a084-b76f7cb9132a"
      },
      "source": [
        "cnn.fit(x = training_set, validation_data = test_set, epochs = 25)"
      ],
      "execution_count": null,
      "outputs": [
        {
          "output_type": "stream",
          "text": [
            "Epoch 1/25\n",
            "250/250 [==============================] - 49s 198ms/step - loss: 0.6809 - accuracy: 0.5701 - val_loss: 0.6524 - val_accuracy: 0.6255\n",
            "Epoch 2/25\n",
            "250/250 [==============================] - 49s 197ms/step - loss: 0.6481 - accuracy: 0.6283 - val_loss: 0.6348 - val_accuracy: 0.6530\n",
            "Epoch 3/25\n",
            "250/250 [==============================] - 51s 205ms/step - loss: 0.6197 - accuracy: 0.6625 - val_loss: 0.5876 - val_accuracy: 0.6985\n",
            "Epoch 4/25\n",
            "250/250 [==============================] - 82s 328ms/step - loss: 0.5930 - accuracy: 0.6840 - val_loss: 0.5796 - val_accuracy: 0.6955\n",
            "Epoch 5/25\n",
            "250/250 [==============================] - 93s 374ms/step - loss: 0.5604 - accuracy: 0.7099 - val_loss: 0.5374 - val_accuracy: 0.7330\n",
            "Epoch 6/25\n",
            "250/250 [==============================] - 94s 377ms/step - loss: 0.5405 - accuracy: 0.7155 - val_loss: 0.5368 - val_accuracy: 0.7430\n",
            "Epoch 7/25\n",
            "250/250 [==============================] - 94s 376ms/step - loss: 0.5211 - accuracy: 0.7424 - val_loss: 0.5331 - val_accuracy: 0.7400\n",
            "Epoch 8/25\n",
            "250/250 [==============================] - 97s 389ms/step - loss: 0.5034 - accuracy: 0.7535 - val_loss: 0.5613 - val_accuracy: 0.7410\n",
            "Epoch 9/25\n",
            "250/250 [==============================] - 96s 386ms/step - loss: 0.4844 - accuracy: 0.7657 - val_loss: 0.5051 - val_accuracy: 0.7690\n",
            "Epoch 10/25\n",
            "250/250 [==============================] - 93s 373ms/step - loss: 0.4652 - accuracy: 0.7769 - val_loss: 0.5339 - val_accuracy: 0.7505\n",
            "Epoch 11/25\n",
            "250/250 [==============================] - 91s 362ms/step - loss: 0.4530 - accuracy: 0.7850 - val_loss: 0.4860 - val_accuracy: 0.7715\n",
            "Epoch 12/25\n",
            "250/250 [==============================] - 92s 369ms/step - loss: 0.4430 - accuracy: 0.7879 - val_loss: 0.5130 - val_accuracy: 0.7705\n",
            "Epoch 13/25\n",
            "250/250 [==============================] - 93s 372ms/step - loss: 0.4254 - accuracy: 0.7981 - val_loss: 0.4782 - val_accuracy: 0.7760\n",
            "Epoch 14/25\n",
            "250/250 [==============================] - 92s 370ms/step - loss: 0.4129 - accuracy: 0.8052 - val_loss: 0.4981 - val_accuracy: 0.7720\n",
            "Epoch 15/25\n",
            "250/250 [==============================] - 93s 372ms/step - loss: 0.3944 - accuracy: 0.8173 - val_loss: 0.4890 - val_accuracy: 0.7845\n",
            "Epoch 16/25\n",
            "250/250 [==============================] - 93s 371ms/step - loss: 0.3864 - accuracy: 0.8211 - val_loss: 0.4933 - val_accuracy: 0.7750\n",
            "Epoch 17/25\n",
            "250/250 [==============================] - 93s 370ms/step - loss: 0.3685 - accuracy: 0.8319 - val_loss: 0.5156 - val_accuracy: 0.7760\n",
            "Epoch 18/25\n",
            "250/250 [==============================] - 92s 370ms/step - loss: 0.3473 - accuracy: 0.8426 - val_loss: 0.5005 - val_accuracy: 0.7820\n",
            "Epoch 19/25\n",
            "250/250 [==============================] - 92s 369ms/step - loss: 0.3445 - accuracy: 0.8482 - val_loss: 0.5979 - val_accuracy: 0.7420\n",
            "Epoch 20/25\n",
            "250/250 [==============================] - 93s 371ms/step - loss: 0.3232 - accuracy: 0.8612 - val_loss: 0.4960 - val_accuracy: 0.7870\n",
            "Epoch 21/25\n",
            "250/250 [==============================] - 93s 370ms/step - loss: 0.3025 - accuracy: 0.8698 - val_loss: 0.5219 - val_accuracy: 0.7785\n",
            "Epoch 22/25\n",
            "250/250 [==============================] - 89s 354ms/step - loss: 0.2950 - accuracy: 0.8714 - val_loss: 0.5340 - val_accuracy: 0.7800\n",
            "Epoch 23/25\n",
            "250/250 [==============================] - 89s 354ms/step - loss: 0.2733 - accuracy: 0.8851 - val_loss: 0.5196 - val_accuracy: 0.7925\n",
            "Epoch 24/25\n",
            "250/250 [==============================] - 88s 352ms/step - loss: 0.2715 - accuracy: 0.8839 - val_loss: 0.5494 - val_accuracy: 0.7850\n",
            "Epoch 25/25\n",
            "250/250 [==============================] - 88s 351ms/step - loss: 0.2522 - accuracy: 0.8956 - val_loss: 0.5615 - val_accuracy: 0.7860\n"
          ],
          "name": "stdout"
        },
        {
          "output_type": "execute_result",
          "data": {
            "text/plain": [
              "<tensorflow.python.keras.callbacks.History at 0x1797c26da90>"
            ]
          },
          "metadata": {
            "tags": []
          },
          "execution_count": 13
        }
      ]
    },
    {
      "cell_type": "markdown",
      "metadata": {
        "id": "U3PZasO0006Z"
      },
      "source": [
        "## Part 4 - Making a single prediction"
      ]
    },
    {
      "cell_type": "code",
      "metadata": {
        "id": "gsSiWEJY1BPB"
      },
      "source": [
        "import numpy as np\n",
        "from keras.preprocessing import image\n",
        "test_image = image.load_img('dataset/single_prediction/cd5.jpg', target_size = (64, 64))\n",
        "test_image = image.img_to_array(test_image)\n",
        "test_image = np.expand_dims(test_image, axis = 0)\n",
        "result = cnn.predict(test_image)\n",
        "training_set.class_indices\n",
        "if result[0][0] == 1:\n",
        "  prediction = 'dog'\n",
        "else:\n",
        "  prediction = 'cat'"
      ],
      "execution_count": null,
      "outputs": []
    },
    {
      "cell_type": "code",
      "metadata": {
        "id": "ED9KB3I54c1i",
        "outputId": "983160da-5811-4c24-9fe3-28669c1db9c3"
      },
      "source": [
        "print(prediction)"
      ],
      "execution_count": null,
      "outputs": [
        {
          "output_type": "stream",
          "text": [
            "cat\n"
          ],
          "name": "stdout"
        }
      ]
    },
    {
      "cell_type": "code",
      "metadata": {
        "id": "AMd6IEahgiHc"
      },
      "source": [
        ""
      ],
      "execution_count": null,
      "outputs": []
    }
  ]
}